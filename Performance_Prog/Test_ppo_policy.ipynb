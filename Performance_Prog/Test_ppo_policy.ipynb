{
 "cells": [
  {
   "cell_type": "code",
   "execution_count": 2,
   "metadata": {},
   "outputs": [],
   "source": [
    "import os\n",
    "os.chdir('../ppo_balancer/ppo_balancer/')"
   ]
  },
  {
   "cell_type": "code",
   "execution_count": 3,
   "metadata": {},
   "outputs": [
    {
     "name": "stderr",
     "output_type": "stream",
     "text": [
      "/home/kevin/miniconda3/envs/ppo_balancer/lib/python3.12/site-packages/gymnasium/envs/registration.py:694: UserWarning: \u001b[33mWARN: Overriding environment UpkieGroundVelocity-v3 already in registry.\u001b[0m\n",
      "  logger.warn(f\"Overriding environment {new_spec.id} already in registry.\")\n",
      "/home/kevin/miniconda3/envs/ppo_balancer/lib/python3.12/site-packages/gymnasium/envs/registration.py:694: UserWarning: \u001b[33mWARN: Overriding environment UpkieServoPositions-v4 already in registry.\u001b[0m\n",
      "  logger.warn(f\"Overriding environment {new_spec.id} already in registry.\")\n",
      "/home/kevin/miniconda3/envs/ppo_balancer/lib/python3.12/site-packages/gymnasium/envs/registration.py:694: UserWarning: \u001b[33mWARN: Overriding environment UpkieServoTorques-v4 already in registry.\u001b[0m\n",
      "  logger.warn(f\"Overriding environment {new_spec.id} already in registry.\")\n",
      "/home/kevin/miniconda3/envs/ppo_balancer/lib/python3.12/site-packages/gymnasium/envs/registration.py:694: UserWarning: \u001b[33mWARN: Overriding environment UpkieServos-v4 already in registry.\u001b[0m\n",
      "  logger.warn(f\"Overriding environment {new_spec.id} already in registry.\")\n",
      "/home/kevin/miniconda3/envs/ppo_balancer/lib/python3.12/site-packages/gymnasium/envs/registration.py:694: UserWarning: \u001b[33mWARN: Overriding environment WheeledInvertedPendulum-v1 already in registry.\u001b[0m\n",
      "  logger.warn(f\"Overriding environment {new_spec.id} already in registry.\")\n"
     ]
    }
   ],
   "source": [
    "import argparse\n",
    "import logging\n",
    "from typing import Tuple\n",
    "import time\n",
    "\n",
    "import gin\n",
    "import gymnasium as gym\n",
    "import numpy as np\n",
    "import upkie.envs\n",
    "from envs import make_ppo_balancer_env\n",
    "from settings import EnvSettings, PPOSettings, TrainingSettings\n",
    "from stable_baselines3 import PPO\n",
    "from upkie.utils.raspi import configure_agent_process, on_raspi\n",
    "from upkie.utils.robot_state import RobotState\n",
    "from upkie.utils.robot_state_randomization import RobotStateRandomization\n",
    "\n",
    "upkie.envs.register()"
   ]
  },
  {
   "cell_type": "code",
   "execution_count": 4,
   "metadata": {},
   "outputs": [],
   "source": [
    "def get_sagittal_force(intensity: float, duration=None):\n",
    "\n",
    "    mass = 5.34  # mass in [kg]\n",
    "    force = intensity*mass*9.81  # Force in [N]\n",
    "    if duration is not None and duration > 1e9:\n",
    "        force = 0.0\n",
    "    return force"
   ]
  },
  {
   "cell_type": "code",
   "execution_count": 5,
   "metadata": {},
   "outputs": [],
   "source": [
    "def run_policy(env: gym.Wrapper, policy) -> None:\n",
    "    \"\"\"!\n",
    "    Run the policy on a given environment.\n",
    "\n",
    "    @param env Upkie environment, wrapped by the agent.\n",
    "    @param policy MLP policy to follow.\n",
    "    \"\"\"\n",
    "\n",
    "    torso_force_in_world = np.zeros(3)\n",
    "    bullet_action = {\n",
    "        \"external_forces\": {\n",
    "            \"torso\": {\n",
    "                \"force\": torso_force_in_world,\n",
    "                \"local\": False,\n",
    "            }\n",
    "        }\n",
    "    }\n",
    "    #Values of intensity sagitall force that is apply \n",
    "    intensity_force = 0.0\n",
    "    isFall = False\n",
    "    \n",
    "    torso_force_in_world[0] = get_sagittal_force(intensity_force)\n",
    "    \n",
    "    best_magnitude = 0.0\n",
    "\n",
    "    start = time.time_ns()\n",
    "\n",
    "    action = np.zeros(env.action_space.shape)\n",
    "    observation, info = env.reset()\n",
    "    reward = 0.0\n",
    "    while isFall==False:\n",
    "        \n",
    "        action, _ = policy.predict(observation, deterministic=True)\n",
    "        now = time.time_ns()\n",
    "        duration = now-start\n",
    "        torso_force_in_world[0] = get_sagittal_force(intensity_force,duration = duration)\n",
    "\n",
    "        env.bullet_extra(bullet_action)  # call before env.step\n",
    "\n",
    "        observation, reward, terminated, truncated, info = env.step(action)\n",
    "        if terminated or truncated or duration > 3e9:\n",
    "            if terminated or truncated:\n",
    "                print('est tombé')\n",
    "                isFall = True\n",
    "                best_magnitude = get_sagittal_force(intensity_force)\n",
    "            start = time.time_ns()\n",
    "            intensity_force += 0.01\n",
    "            torso_force_in_world[0] = get_sagittal_force(intensity_force)\n",
    "            observation, _ = env.reset()\n",
    "    return best_magnitude"
   ]
  },
  {
   "cell_type": "code",
   "execution_count": 6,
   "metadata": {},
   "outputs": [],
   "source": [
    "def main(policy_path: str, training: bool) -> None:\n",
    "    \"\"\"!\n",
    "    Load environment and policy, and run the latter on the former.\n",
    "\n",
    "    @param policy_path Path to policy parameters.\n",
    "    @param training If True, add training noise and domain randomization.\n",
    "    \"\"\"\n",
    "    env_settings = EnvSettings()\n",
    "    init_state = None\n",
    "    if training:\n",
    "        training_settings = TrainingSettings()\n",
    "        init_state = RobotState(\n",
    "            randomization=RobotStateRandomization(\n",
    "                **training_settings.init_rand\n",
    "            ),\n",
    "        )\n",
    "    with gym.make(\n",
    "        env_settings.env_id,\n",
    "        frequency=env_settings.agent_frequency,\n",
    "        init_state=init_state,\n",
    "        max_ground_velocity=env_settings.max_ground_velocity,\n",
    "        regulate_frequency=True,\n",
    "        spine_config=env_settings.spine_config,\n",
    "    ) as velocity_env:\n",
    "        env = make_ppo_balancer_env(\n",
    "            velocity_env,\n",
    "            env_settings,\n",
    "            training=training,\n",
    "        )\n",
    "        ppo_settings = PPOSettings()\n",
    "        policy = PPO(\n",
    "            \"MlpPolicy\",\n",
    "            env,\n",
    "            policy_kwargs={\n",
    "                \"net_arch\": {\n",
    "                    \"pi\": ppo_settings.net_arch_pi,\n",
    "                    \"vf\": ppo_settings.net_arch_vf,\n",
    "                },\n",
    "            },\n",
    "            verbose=0,\n",
    "        )\n",
    "        policy.set_parameters(policy_path)\n",
    "        best_magnitude = run_policy(env, policy)\n",
    "        print(f\"MSFOS = {best_magnitude} N\"  )"
   ]
  },
  {
   "cell_type": "code",
   "execution_count": 15,
   "metadata": {},
   "outputs": [
    {
     "name": "stderr",
     "output_type": "stream",
     "text": [
      "[2024-12-18 23:56:27,455] [\u001b[32minfo\u001b[0m] Loading policy configuration from policy/operative_config.gin (2679653931.py:7)\n",
      "[2024-12-18 23:56:27,488] [\u001b[33;1mwarning\u001b[0m] UpkieGroundVelocity rate limiter is late by -1.500000 [ms] (rate_limiter.py:106)\n",
      "[2024-12-18 23:56:30,494] [\u001b[33;1mwarning\u001b[0m] UpkieGroundVelocity rate limiter is late by -1.500000 [ms] (rate_limiter.py:106)\n",
      "[2024-12-18 23:56:33,502] [\u001b[33;1mwarning\u001b[0m] UpkieGroundVelocity rate limiter is late by -1.500000 [ms] (rate_limiter.py:106)\n",
      "[2024-12-18 23:56:36,509] [\u001b[33;1mwarning\u001b[0m] UpkieGroundVelocity rate limiter is late by -1.500000 [ms] (rate_limiter.py:106)\n",
      "[2024-12-18 23:56:39,516] [\u001b[33;1mwarning\u001b[0m] UpkieGroundVelocity rate limiter is late by -1.600000 [ms] (rate_limiter.py:106)\n",
      "[2024-12-18 23:56:42,523] [\u001b[33;1mwarning\u001b[0m] UpkieGroundVelocity rate limiter is late by -1.500000 [ms] (rate_limiter.py:106)\n",
      "[2024-12-18 23:56:45,530] [\u001b[33;1mwarning\u001b[0m] UpkieGroundVelocity rate limiter is late by -1.500000 [ms] (rate_limiter.py:106)\n",
      "[2024-12-18 23:56:48,537] [\u001b[33;1mwarning\u001b[0m] UpkieGroundVelocity rate limiter is late by -1.500000 [ms] (rate_limiter.py:106)\n",
      "[2024-12-18 23:56:50,707] [\u001b[33;1mwarning\u001b[0m] Fall detected (pitch=1.01 rad, fall_pitch=1.00 rad) (upkie_base_env.py:281)\n"
     ]
    },
    {
     "name": "stdout",
     "output_type": "stream",
     "text": [
      "est tombé\n",
      "MSFOS = 3.6669780000000003 N\n"
     ]
    }
   ],
   "source": [
    "if on_raspi():\n",
    "        configure_agent_process()\n",
    "\n",
    "policy_path = f\"policy/2024-12-04/mechanize_1/final.zip\"\n",
    "# Configuration\n",
    "config_path = f\"policy/operative_config.gin\"\n",
    "logging.info(\"Loading policy configuration from %s\", config_path)\n",
    "gin.parse_config_file(config_path)\n",
    "\n",
    "try:\n",
    "    main(policy_path, training=False)\n",
    "except KeyboardInterrupt:\n",
    "    logging.info(\"Caught a keyboard interrupt\")\n"
   ]
  },
  {
   "cell_type": "code",
   "execution_count": null,
   "metadata": {},
   "outputs": [],
   "source": []
  },
  {
   "cell_type": "code",
   "execution_count": null,
   "metadata": {},
   "outputs": [],
   "source": []
  }
 ],
 "metadata": {
  "kernelspec": {
   "display_name": "Python 3 (ipykernel)",
   "language": "python",
   "name": "python3"
  },
  "language_info": {
   "codemirror_mode": {
    "name": "ipython",
    "version": 3
   },
   "file_extension": ".py",
   "mimetype": "text/x-python",
   "name": "python",
   "nbconvert_exporter": "python",
   "pygments_lexer": "ipython3",
   "version": "3.12.7"
  }
 },
 "nbformat": 4,
 "nbformat_minor": 4
}
